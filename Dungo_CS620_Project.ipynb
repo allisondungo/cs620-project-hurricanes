{
  "nbformat": 4,
  "nbformat_minor": 0,
  "metadata": {
    "colab": {
      "name": "Dungo_CS620_Project.ipynb",
      "provenance": [],
      "collapsed_sections": [],
      "toc_visible": true,
      "authorship_tag": "ABX9TyN6j1SN0wzLFpWizto4n1WK",
      "include_colab_link": true
    },
    "kernelspec": {
      "name": "python3",
      "display_name": "Python 3"
    },
    "language_info": {
      "name": "python"
    }
  },
  "cells": [
    {
      "cell_type": "markdown",
      "metadata": {
        "id": "view-in-github",
        "colab_type": "text"
      },
      "source": [
        "<a href=\"https://colab.research.google.com/github/allisondungo/cs620-project-hurricanes/blob/main/Dungo_CS620_Project.ipynb\" target=\"_parent\"><img src=\"https://colab.research.google.com/assets/colab-badge.svg\" alt=\"Open In Colab\"/></a>"
      ]
    },
    {
      "cell_type": "markdown",
      "metadata": {
        "id": "yA1gFj1ZOI13"
      },
      "source": [
        "# Abstract\n",
        "\n",
        "\n",
        "\n"
      ]
    },
    {
      "cell_type": "markdown",
      "metadata": {
        "id": "pIPBUxiYI-so"
      },
      "source": [
        "*Insert hurricane introduction and reason for choosing this project here*"
      ]
    },
    {
      "cell_type": "markdown",
      "metadata": {
        "id": "fuytq8MNPF5G"
      },
      "source": [
        "## Group Members ##\n",
        "Allison Dungo\n",
        "\n",
        "\n",
        "*   Email: adung002@odu.edu\n",
        "*   Portfolio: https://cs.odu.edu/~cs_adung002\n"
      ]
    },
    {
      "cell_type": "markdown",
      "metadata": {
        "id": "6KIkbvNtPJAn"
      },
      "source": [
        "## GitHub Repository ##\n",
        "The GitHub Repository for this project can be found here: https://github.com/allisondungo/cs620-project-hurricanes"
      ]
    },
    {
      "cell_type": "markdown",
      "metadata": {
        "id": "cvkvUocMPbLr"
      },
      "source": [
        "## Data Source ##"
      ]
    },
    {
      "cell_type": "markdown",
      "metadata": {
        "id": "jsau_VBQGQAO"
      },
      "source": [
        "### Primary Dataset\n",
        "\n",
        "The majority of the data will come from the National Hurricane Center Archive, found here: https://www.nhc.noaa.gov/data/\n",
        "The main and specific data file I will be using is a .csv file containing Atlantic Hurricane Tracking data from 1851 - 2020. Data will need to be parsed accordingly, since the goal of this project will focus only on the years 2010 - 2020. The data provided in this dataset include information on hurricane/tropical cycle locations, maximum winds, central pressure, and size, in 6-hour intervals. "
      ]
    },
    {
      "cell_type": "markdown",
      "metadata": {
        "id": "boMKxl3AGY_k"
      },
      "source": [
        "### Secondary Datasets\n",
        "\n",
        "To obtain the goal of this project, secondary datasets are required to analyze hurricane predictions and reach the final conclusions. This data will be manually added to an existing table within the project. The first secondary dataset will involve some web scraping from the Climate Prediction Center, found here: https://www.cpc.ncep.noaa.gov/products/outlooks/hurricane-archive.shtml. The data from this site contains the Atlantic Hurricane Outlooks from May of each year. This data will be used in comparison against the primary hurricane tracking data, in order to analyze which years had accurate predictions. Another secondary dataset that will be used and added manually to an existing table also comes from the National Hurricane Center site. This data consists of the U.S. damage costs (in millions). This information will be analyzed and used to justify if accurate hurricane predictions lead to saving costs. "
      ]
    },
    {
      "cell_type": "markdown",
      "metadata": {
        "id": "Ql6r7vQAPfoS"
      },
      "source": [
        "## End Goal ##\n",
        "\n",
        "The end goal of this project is to visualize Atlantic hurricane predictions against actual hurricane tracking data. Predictions will prove to be accurate or inaccurate and in turn, either improve or hurt costs of hurricane disaster relief. \n"
      ]
    },
    {
      "cell_type": "markdown",
      "metadata": {
        "id": "kyTwg20vPquv"
      },
      "source": [
        "## Project Plan ##\n",
        "\n",
        "1. Put Atlantic Hurricane Prediction data into a table.\n",
        "    * Atlantic Hurricane Outlooks are from **May** of each year \n",
        "    * Predictions include:\n",
        "      * Number of Named Hurricanes\n",
        "      * Number of Hurricanes\n",
        "      * Numer of Major Hurricanes\n",
        "      * ACE % of Median\n",
        "2. Use Python to handle Hurricane Tracking Data \n",
        "    * Data goes back to 1851. We only want data up until 2011. \n",
        "    * Put this data into a new table with proper rows and columns that's more understandable\n",
        "    * Consider visuals. Graphs, maps, charts? \n",
        "3. Collect/find data for hurricane disaster relief.\n",
        "    * Damage costs in millions found in Atlantic Summary Tables by the year\n"
      ]
    },
    {
      "cell_type": "markdown",
      "metadata": {
        "id": "42sf1E7Hp4_x"
      },
      "source": [
        "## Hurricane Data ##\n",
        "What kind of data do we want for hurricanes?\n",
        "*   Go back 10 years (2010)\n",
        "*   Category\n",
        "*   Wind\n",
        "*   Rain\n",
        " \n",
        "\n"
      ]
    },
    {
      "cell_type": "markdown",
      "metadata": {
        "id": "0cCzWBchuMhG"
      },
      "source": [
        "## Disaster Data ##\n",
        "What kind of data do we want to look at for disaster relief?\n",
        "* Death\n",
        "* Escape routes?\n",
        "* Damages\n",
        "  * Environment\n",
        "  * Civil\n",
        "* \n"
      ]
    },
    {
      "cell_type": "markdown",
      "metadata": {
        "id": "x91fixBTQ83C"
      },
      "source": [
        "# References #\n",
        "\n",
        "This is a running list of references. It is updated along the way.\n",
        "*   Why data science is critical in hurricane season, https://blog.galvanize.com/why-data-science-is-critical-in-hurricane-season/\n",
        "*   National Hurricane Center and Central Pacific Hurricane Center, https://www.nhc.noaa.gov/\n",
        "*   Hurricane Costs, https://coast.noaa.gov/states/fast-facts/hurricane-costs.html\n",
        "*   Facts + Statistics: Hurricanes, https://www.iii.org/fact-statistic/facts-statistics-hurricanes#Estimated%20Insured%20Losses%20For%20The%20Top%2010%20Historical%20Hurricanes%20Based%20On%20Current%20Exposures%20(1)\n",
        "*   Atlantic Hurricane Outlook and Summary Archive, https://www.cpc.ncep.noaa.gov/products/outlooks/hurricane-archive.shtml\n",
        "\n",
        "\n"
      ]
    }
  ]
}